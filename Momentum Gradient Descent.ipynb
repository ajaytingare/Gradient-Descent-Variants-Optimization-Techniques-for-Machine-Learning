{
 "cells": [
  {
   "cell_type": "code",
   "execution_count": null,
   "id": "dc8ca0f6-e3f0-45d6-92b5-23e35a1fd62e",
   "metadata": {},
   "outputs": [],
   "source": []
  },
  {
   "cell_type": "markdown",
   "id": "025767d2-18bf-4136-8608-de84e9102edb",
   "metadata": {},
   "source": [
    "# Momentum Gradient Descent"
   ]
  },
  {
   "cell_type": "code",
   "execution_count": 1,
   "id": "a071f9e0-0005-4912-83dc-701072ed8fb2",
   "metadata": {},
   "outputs": [
    {
     "name": "stdout",
     "output_type": "stream",
     "text": [
      "Epoch 0, Cost: 6.638219\n",
      "Epoch 100, Cost: 0.022168\n",
      "Epoch 200, Cost: 0.016313\n",
      "Epoch 300, Cost: 0.012040\n",
      "Epoch 400, Cost: 0.008886\n",
      "Epoch 500, Cost: 0.006558\n",
      "Epoch 600, Cost: 0.004840\n",
      "Epoch 700, Cost: 0.003572\n",
      "Epoch 800, Cost: 0.002636\n",
      "Epoch 900, Cost: 0.001946\n",
      "Optimized Weights: [0.86867044 1.04466807]\n"
     ]
    }
   ],
   "source": [
    "import numpy as np\n",
    "\n",
    "# Function to perform Gradient Descent with Momentum\n",
    "# This method helps accelerate convergence and escape local minima\n",
    "\n",
    "def momentum_gradient_descent(X, y, learning_rate=0.01, epochs=1000, beta=0.9):\n",
    "    m, n = X.shape  # m: number of samples, n: number of features\n",
    "    theta = np.zeros(n)  # Initialize weights (all zeros)\n",
    "    velocity = np.zeros(n)  # Initialize velocity (momentum term)\n",
    "    history = []  # To track the cost function over iterations\n",
    "    \n",
    "    for epoch in range(epochs):\n",
    "        gradients = (1/m) * X.T.dot(X.dot(theta) - y)  # Compute gradients\n",
    "        velocity = beta * velocity + (1 - beta) * gradients  # Apply momentum\n",
    "        theta -= learning_rate * velocity  # Update parameters using velocity\n",
    "        cost = (1/(2*m)) * np.sum((X.dot(theta) - y) ** 2)  # Compute cost\n",
    "        history.append(cost)  # Store the cost for visualization later\n",
    "        \n",
    "        if epoch % 100 == 0:  # Print progress every 100 epochs\n",
    "            print(f\"Epoch {epoch}, Cost: {cost:.6f}\")  # Display the current cost\n",
    "    \n",
    "    return theta, history  # Return optimized parameters and cost history\n",
    "\n",
    "# Example Usage: Linear Regression with Momentum Gradient Descent\n",
    "X = np.array([[1, 1], [1, 2], [1, 3], [1, 4]])  # Adding bias term (column of ones)\n",
    "y = np.array([2, 3, 4, 5])  # Target variable\n",
    "\n",
    "theta, history = momentum_gradient_descent(X, y)  # Run Momentum GD\n",
    "print(\"Optimized Weights:\", theta)  # Print the final values of the weights\n"
   ]
  },
  {
   "cell_type": "code",
   "execution_count": null,
   "id": "693c0260-db7f-4fe4-aaf8-a9872e8d6d25",
   "metadata": {},
   "outputs": [],
   "source": []
  }
 ],
 "metadata": {
  "kernelspec": {
   "display_name": "Python 3 (ipykernel)",
   "language": "python",
   "name": "python3"
  },
  "language_info": {
   "codemirror_mode": {
    "name": "ipython",
    "version": 3
   },
   "file_extension": ".py",
   "mimetype": "text/x-python",
   "name": "python",
   "nbconvert_exporter": "python",
   "pygments_lexer": "ipython3",
   "version": "3.11.4"
  }
 },
 "nbformat": 4,
 "nbformat_minor": 5
}
