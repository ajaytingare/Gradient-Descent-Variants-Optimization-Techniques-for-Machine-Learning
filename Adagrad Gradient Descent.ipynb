{
 "cells": [
  {
   "cell_type": "code",
   "execution_count": null,
   "id": "9acb1edc-d501-48ea-a5dc-eaaacb540844",
   "metadata": {},
   "outputs": [],
   "source": []
  },
  {
   "cell_type": "markdown",
   "id": "5b7250e6-a5be-40f7-ad67-6f19f207ab57",
   "metadata": {},
   "source": [
    "# Adagrad Gradient Descent"
   ]
  },
  {
   "cell_type": "code",
   "execution_count": 1,
   "id": "a04aa602-e550-4ee8-9314-6c9959931f5d",
   "metadata": {},
   "outputs": [
    {
     "name": "stdout",
     "output_type": "stream",
     "text": [
      "Epoch 0, Cost: 6.615675\n",
      "Epoch 100, Cost: 4.537705\n",
      "Epoch 200, Cost: 3.745318\n",
      "Epoch 300, Cost: 3.206075\n",
      "Epoch 400, Cost: 2.796006\n",
      "Epoch 500, Cost: 2.467032\n",
      "Epoch 600, Cost: 2.194546\n",
      "Epoch 700, Cost: 1.963977\n",
      "Epoch 800, Cost: 1.765870\n",
      "Epoch 900, Cost: 1.593685\n",
      "Optimized Weights: [0.53746242 0.53746242]\n"
     ]
    }
   ],
   "source": [
    "import numpy as np\n",
    "\n",
    "# Function to perform AdaGrad (Adaptive Gradient Descent)\n",
    "# This method adapts the learning rate based on past gradients to improve convergence\n",
    "\n",
    "def adagrad_gradient_descent(X, y, learning_rate=0.01, epochs=1000, epsilon=1e-8):\n",
    "    m, n = X.shape  # m: number of samples, n: number of features\n",
    "    theta = np.zeros(n)  # Initialize weights (all zeros)\n",
    "    gradient_accumulator = np.zeros(n)  # Sum of squared gradients\n",
    "    history = []  # To track the cost function over iterations\n",
    "    \n",
    "    for epoch in range(epochs):\n",
    "        gradients = (1/m) * X.T.dot(X.dot(theta) - y)  # Compute gradients\n",
    "        gradient_accumulator += gradients ** 2  # Accumulate squared gradients\n",
    "        adjusted_gradients = gradients / (np.sqrt(gradient_accumulator) + epsilon)  # Scale gradients\n",
    "        theta -= learning_rate * adjusted_gradients  # Update parameters\n",
    "        cost = (1/(2*m)) * np.sum((X.dot(theta) - y) ** 2)  # Compute cost\n",
    "        history.append(cost)  # Store the cost for visualization later\n",
    "        \n",
    "        if epoch % 100 == 0:  # Print progress every 100 epochs\n",
    "            print(f\"Epoch {epoch}, Cost: {cost:.6f}\")  # Display the current cost\n",
    "    \n",
    "    return theta, history  # Return optimized parameters and cost history\n",
    "\n",
    "# Example Usage: Linear Regression with AdaGrad\n",
    "X = np.array([[1, 1], [1, 2], [1, 3], [1, 4]])  # Adding bias term (column of ones)\n",
    "y = np.array([2, 3, 4, 5])  # Target variable\n",
    "\n",
    "theta, history = adagrad_gradient_descent(X, y)  # Run AdaGrad Descent\n",
    "print(\"Optimized Weights:\", theta)  # Print the final values of the weights\n"
   ]
  },
  {
   "cell_type": "code",
   "execution_count": null,
   "id": "34a98560-667d-4f65-b0e3-4c6874279c5e",
   "metadata": {},
   "outputs": [],
   "source": []
  }
 ],
 "metadata": {
  "kernelspec": {
   "display_name": "Python 3 (ipykernel)",
   "language": "python",
   "name": "python3"
  },
  "language_info": {
   "codemirror_mode": {
    "name": "ipython",
    "version": 3
   },
   "file_extension": ".py",
   "mimetype": "text/x-python",
   "name": "python",
   "nbconvert_exporter": "python",
   "pygments_lexer": "ipython3",
   "version": "3.11.4"
  }
 },
 "nbformat": 4,
 "nbformat_minor": 5
}
