{
 "cells": [
  {
   "cell_type": "code",
   "execution_count": null,
   "id": "91763c85-bc47-44a1-8ca6-055a75d4d75b",
   "metadata": {},
   "outputs": [],
   "source": []
  },
  {
   "cell_type": "markdown",
   "id": "9a05e79b-cb1f-45d4-977d-9179e0505a74",
   "metadata": {},
   "source": [
    "# Stochastic Gradient Descent"
   ]
  },
  {
   "cell_type": "code",
   "execution_count": 1,
   "id": "1c086cfc-5c03-4e9e-8e00-bb43726743bf",
   "metadata": {},
   "outputs": [
    {
     "name": "stdout",
     "output_type": "stream",
     "text": [
      "Epoch 0, Cost: 3.538047\n",
      "Epoch 100, Cost: 0.007964\n",
      "Epoch 200, Cost: 0.002440\n",
      "Epoch 300, Cost: 0.000748\n",
      "Epoch 400, Cost: 0.000220\n",
      "Epoch 500, Cost: 0.000070\n",
      "Epoch 600, Cost: 0.000021\n",
      "Epoch 700, Cost: 0.000007\n",
      "Epoch 800, Cost: 0.000002\n",
      "Epoch 900, Cost: 0.000001\n",
      "Optimized Weights: [0.99864918 1.00046231]\n"
     ]
    }
   ],
   "source": [
    "import numpy as np\n",
    "\n",
    "# Function to perform Stochastic Gradient Descent (SGD)\n",
    "# Unlike Batch GD, this method updates parameters using one sample at a time\n",
    "\n",
    "def stochastic_gradient_descent(X, y, learning_rate=0.01, epochs=1000):\n",
    "    m, n = X.shape  # m: number of samples, n: number of features\n",
    "    theta = np.zeros(n)  # Initialize weights (all zeros)\n",
    "    history = []  # To track the cost function over iterations\n",
    "    \n",
    "    for epoch in range(epochs):\n",
    "        for i in range(m):  # Loop through each training example\n",
    "            random_index = np.random.randint(m)  # Pick a random sample\n",
    "            xi = X[random_index:random_index+1]  # Select the corresponding feature vector\n",
    "            yi = y[random_index]  # Select the corresponding target value\n",
    "            gradients = xi.T.dot(xi.dot(theta) - yi)  # Compute gradients\n",
    "            theta -= learning_rate * gradients  # Update parameters\n",
    "            cost = (1/(2*m)) * np.sum((X.dot(theta) - y) ** 2)  # Compute cost\n",
    "            history.append(cost)  # Store the cost for visualization later\n",
    "        \n",
    "        if epoch % 100 == 0:  # Print progress every 100 epochs\n",
    "            print(f\"Epoch {epoch}, Cost: {cost:.6f}\")  # Display the current cost\n",
    "    \n",
    "    return theta, history  # Return optimized parameters and cost history\n",
    "\n",
    "# Example Usage: Linear Regression with Stochastic Gradient Descent\n",
    "X = np.array([[1, 1], [1, 2], [1, 3], [1, 4]])  # Adding bias term (column of ones)\n",
    "y = np.array([2, 3, 4, 5])  # Target variable\n",
    "\n",
    "theta, history = stochastic_gradient_descent(X, y)  # Run SGD\n",
    "print(\"Optimized Weights:\", theta)  # Print the final values of the weights\n"
   ]
  },
  {
   "cell_type": "code",
   "execution_count": null,
   "id": "c1177c4b-ec39-49ae-a4e4-979732506ba6",
   "metadata": {},
   "outputs": [],
   "source": []
  }
 ],
 "metadata": {
  "kernelspec": {
   "display_name": "Python 3 (ipykernel)",
   "language": "python",
   "name": "python3"
  },
  "language_info": {
   "codemirror_mode": {
    "name": "ipython",
    "version": 3
   },
   "file_extension": ".py",
   "mimetype": "text/x-python",
   "name": "python",
   "nbconvert_exporter": "python",
   "pygments_lexer": "ipython3",
   "version": "3.11.4"
  }
 },
 "nbformat": 4,
 "nbformat_minor": 5
}
