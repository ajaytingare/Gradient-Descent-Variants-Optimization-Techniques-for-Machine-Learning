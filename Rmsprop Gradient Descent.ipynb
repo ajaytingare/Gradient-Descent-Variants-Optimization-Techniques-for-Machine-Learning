{
 "cells": [
  {
   "cell_type": "code",
   "execution_count": null,
   "id": "81119eb2-6573-4087-a77a-5c0941dada6d",
   "metadata": {},
   "outputs": [],
   "source": []
  },
  {
   "cell_type": "markdown",
   "id": "17e6444c-6ee0-4c69-a5a3-7850603f74c3",
   "metadata": {},
   "source": [
    "# Rmsprop Gradient Descent"
   ]
  },
  {
   "cell_type": "code",
   "execution_count": 1,
   "id": "b1602544-4ad0-47c8-bbe6-8b45f016c41c",
   "metadata": {},
   "outputs": [
    {
     "name": "stdout",
     "output_type": "stream",
     "text": [
      "Epoch 0, Cost: 6.329843\n",
      "Epoch 100, Cost: 0.045527\n",
      "Epoch 200, Cost: 0.000050\n",
      "Epoch 300, Cost: 0.000171\n",
      "Epoch 400, Cost: 0.000169\n",
      "Epoch 500, Cost: 0.000169\n",
      "Epoch 600, Cost: 0.000169\n",
      "Epoch 700, Cost: 0.000169\n",
      "Epoch 800, Cost: 0.000169\n",
      "Epoch 900, Cost: 0.000169\n",
      "Optimized Weights: [1.005 1.005]\n"
     ]
    }
   ],
   "source": [
    "import numpy as np\n",
    "\n",
    "# Function to perform RMSprop (Root Mean Square Propagation) Gradient Descent\n",
    "# This method adjusts the learning rate using an exponentially decaying average of past gradients\n",
    "\n",
    "def rmsprop_gradient_descent(X, y, learning_rate=0.01, epochs=1000, beta=0.9, epsilon=1e-8):\n",
    "    m, n = X.shape  # m: number of samples, n: number of features\n",
    "    theta = np.zeros(n)  # Initialize weights (all zeros)\n",
    "    gradient_accumulator = np.zeros(n)  # Initialize moving average of squared gradients\n",
    "    history = []  # To track the cost function over iterations\n",
    "    \n",
    "    for epoch in range(epochs):\n",
    "        gradients = (1/m) * X.T.dot(X.dot(theta) - y)  # Compute gradients\n",
    "        gradient_accumulator = beta * gradient_accumulator + (1 - beta) * (gradients ** 2)  # Update moving average\n",
    "        adjusted_gradients = gradients / (np.sqrt(gradient_accumulator) + epsilon)  # Scale gradients\n",
    "        theta -= learning_rate * adjusted_gradients  # Update parameters\n",
    "        cost = (1/(2*m)) * np.sum((X.dot(theta) - y) ** 2)  # Compute cost\n",
    "        history.append(cost)  # Store the cost for visualization later\n",
    "        \n",
    "        if epoch % 100 == 0:  # Print progress every 100 epochs\n",
    "            print(f\"Epoch {epoch}, Cost: {cost:.6f}\")  # Display the current cost\n",
    "    \n",
    "    return theta, history  # Return optimized parameters and cost history\n",
    "\n",
    "# Example Usage: Linear Regression with RMSprop Gradient Descent\n",
    "X = np.array([[1, 1], [1, 2], [1, 3], [1, 4]])  # Adding bias term (column of ones)\n",
    "y = np.array([2, 3, 4, 5])  # Target variable\n",
    "\n",
    "theta, history = rmsprop_gradient_descent(X, y)  # Run RMSprop Descent\n",
    "print(\"Optimized Weights:\", theta)  # Print the final values of the weights\n"
   ]
  },
  {
   "cell_type": "code",
   "execution_count": null,
   "id": "8d09fb3c-84bd-4652-9d35-5ec1b3ba2094",
   "metadata": {},
   "outputs": [],
   "source": []
  }
 ],
 "metadata": {
  "kernelspec": {
   "display_name": "Python 3 (ipykernel)",
   "language": "python",
   "name": "python3"
  },
  "language_info": {
   "codemirror_mode": {
    "name": "ipython",
    "version": 3
   },
   "file_extension": ".py",
   "mimetype": "text/x-python",
   "name": "python",
   "nbconvert_exporter": "python",
   "pygments_lexer": "ipython3",
   "version": "3.11.4"
  }
 },
 "nbformat": 4,
 "nbformat_minor": 5
}
