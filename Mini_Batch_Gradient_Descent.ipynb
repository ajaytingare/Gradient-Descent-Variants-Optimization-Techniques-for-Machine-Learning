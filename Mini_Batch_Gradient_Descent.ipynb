{
 "cells": [
  {
   "cell_type": "code",
   "execution_count": null,
   "id": "d2c58fae-7c74-4815-a7bf-d88faa7df59b",
   "metadata": {},
   "outputs": [],
   "source": []
  },
  {
   "cell_type": "markdown",
   "id": "46c7d693-4c97-4cab-b4b7-9fedd24fdac6",
   "metadata": {},
   "source": [
    "# Mini_Batch_Gradient_Descent"
   ]
  },
  {
   "cell_type": "code",
   "execution_count": 1,
   "id": "e49edc49-744c-4d94-bafe-83fc5066f387",
   "metadata": {},
   "outputs": [
    {
     "name": "stdout",
     "output_type": "stream",
     "text": [
      "Epoch 0, Cost: 4.771370\n",
      "Epoch 100, Cost: 0.015921\n",
      "Epoch 200, Cost: 0.008694\n",
      "Epoch 300, Cost: 0.004748\n",
      "Epoch 400, Cost: 0.002595\n",
      "Epoch 500, Cost: 0.001417\n",
      "Epoch 600, Cost: 0.000774\n",
      "Epoch 700, Cost: 0.000423\n",
      "Epoch 800, Cost: 0.000231\n",
      "Epoch 900, Cost: 0.000126\n",
      "Optimized Weights: [0.9711528  1.00972793]\n"
     ]
    }
   ],
   "source": [
    "import numpy as np\n",
    "\n",
    "# Function to perform Mini-Batch Gradient Descent\n",
    "# This method updates parameters using a small random subset of data in each iteration\n",
    "\n",
    "def mini_batch_gradient_descent(X, y, learning_rate=0.01, epochs=1000, batch_size=2):\n",
    "    m, n = X.shape  # m: number of samples, n: number of features\n",
    "    theta = np.zeros(n)  # Initialize weights (all zeros)\n",
    "    history = []  # To track the cost function over iterations\n",
    "    \n",
    "    for epoch in range(epochs):\n",
    "        indices = np.random.permutation(m)  # Shuffle the dataset indices\n",
    "        X_shuffled, y_shuffled = X[indices], y[indices]  # Shuffle X and y\n",
    "        \n",
    "        for i in range(0, m, batch_size):  # Process mini-batches\n",
    "            X_batch = X_shuffled[i:i+batch_size]\n",
    "            y_batch = y_shuffled[i:i+batch_size]\n",
    "            gradients = (1/batch_size) * X_batch.T.dot(X_batch.dot(theta) - y_batch)  # Compute gradients\n",
    "            theta -= learning_rate * gradients  # Update parameters\n",
    "            cost = (1/(2*m)) * np.sum((X.dot(theta) - y) ** 2)  # Compute cost\n",
    "            history.append(cost)  # Store the cost for visualization later\n",
    "        \n",
    "        if epoch % 100 == 0:  # Print progress every 100 epochs\n",
    "            print(f\"Epoch {epoch}, Cost: {cost:.6f}\")  # Display the current cost\n",
    "    \n",
    "    return theta, history  # Return optimized parameters and cost history\n",
    "\n",
    "# Example Usage: Linear Regression with Mini-Batch Gradient Descent\n",
    "X = np.array([[1, 1], [1, 2], [1, 3], [1, 4]])  # Adding bias term (column of ones)\n",
    "y = np.array([2, 3, 4, 5])  # Target variable\n",
    "\n",
    "theta, history = mini_batch_gradient_descent(X, y)  # Run Mini-Batch GD\n",
    "print(\"Optimized Weights:\", theta)  # Print the final values of the weights\n"
   ]
  },
  {
   "cell_type": "code",
   "execution_count": null,
   "id": "d2fde8ac-2299-49cf-b98b-ce8513884ce9",
   "metadata": {},
   "outputs": [],
   "source": []
  }
 ],
 "metadata": {
  "kernelspec": {
   "display_name": "Python 3 (ipykernel)",
   "language": "python",
   "name": "python3"
  },
  "language_info": {
   "codemirror_mode": {
    "name": "ipython",
    "version": 3
   },
   "file_extension": ".py",
   "mimetype": "text/x-python",
   "name": "python",
   "nbconvert_exporter": "python",
   "pygments_lexer": "ipython3",
   "version": "3.11.4"
  }
 },
 "nbformat": 4,
 "nbformat_minor": 5
}
