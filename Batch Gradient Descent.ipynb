{
 "cells": [
  {
   "cell_type": "code",
   "execution_count": null,
   "id": "8a3d0661-670e-4279-879b-96f7a6577c7c",
   "metadata": {},
   "outputs": [],
   "source": []
  },
  {
   "cell_type": "markdown",
   "id": "ed46d149-f8ac-4c73-8e29-7ea26a12e3f2",
   "metadata": {},
   "source": [
    "# Batch Gradient Descent"
   ]
  },
  {
   "cell_type": "code",
   "execution_count": 1,
   "id": "37b5d615-2422-4d94-aab2-8c066f9b4533",
   "metadata": {},
   "outputs": [
    {
     "name": "stdout",
     "output_type": "stream",
     "text": [
      "Epoch 0, Cost: 5.674362\n",
      "Epoch 100, Cost: 0.021585\n",
      "Epoch 200, Cost: 0.015996\n",
      "Epoch 300, Cost: 0.011855\n",
      "Epoch 400, Cost: 0.008786\n",
      "Epoch 500, Cost: 0.006511\n",
      "Epoch 600, Cost: 0.004825\n",
      "Epoch 700, Cost: 0.003576\n",
      "Epoch 800, Cost: 0.002650\n",
      "Epoch 900, Cost: 0.001964\n",
      "Optimized Weights: [0.86777362 1.04497309]\n"
     ]
    }
   ],
   "source": [
    "import numpy as np\n",
    "\n",
    "# Function to perform Batch Gradient Descent\n",
    "# This method updates all parameters simultaneously in each iteration\n",
    "\n",
    "def batch_gradient_descent(X, y, learning_rate=0.01, epochs=1000):\n",
    "    m, n = X.shape  # m: number of samples, n: number of features\n",
    "    theta = np.zeros(n)  # Initialize weights (all zeros)\n",
    "    history = []  # To track the cost function over iterations\n",
    "    \n",
    "    for epoch in range(epochs):\n",
    "        gradients = (1/m) * X.T.dot(X.dot(theta) - y)  # Compute gradients for all parameters\n",
    "        theta -= learning_rate * gradients  # Update parameters in the negative gradient direction\n",
    "        cost = (1/(2*m)) * np.sum((X.dot(theta) - y) ** 2)  # Compute the mean squared error cost\n",
    "        history.append(cost)  # Store the cost for visualization later\n",
    "        \n",
    "        if epoch % 100 == 0:  # Print progress every 100 iterations\n",
    "            print(f\"Epoch {epoch}, Cost: {cost:.6f}\")  # Display the current cost\n",
    "    \n",
    "    return theta, history  # Return optimized parameters and cost history\n",
    "\n",
    "# Example Usage: Linear Regression with Batch Gradient Descent\n",
    "X = np.array([[1, 1], [1, 2], [1, 3], [1, 4]])  # Adding bias term (column of ones)\n",
    "y = np.array([2, 3, 4, 5])  # Target variable\n",
    "\n",
    "theta, history = batch_gradient_descent(X, y)  # Run gradient descent\n",
    "print(\"Optimized Weights:\", theta)  # Print the final values of the weights\n"
   ]
  },
  {
   "cell_type": "code",
   "execution_count": null,
   "id": "1bb134af-74a5-4162-833b-b1accf8186ac",
   "metadata": {},
   "outputs": [],
   "source": []
  }
 ],
 "metadata": {
  "kernelspec": {
   "display_name": "Python 3 (ipykernel)",
   "language": "python",
   "name": "python3"
  },
  "language_info": {
   "codemirror_mode": {
    "name": "ipython",
    "version": 3
   },
   "file_extension": ".py",
   "mimetype": "text/x-python",
   "name": "python",
   "nbconvert_exporter": "python",
   "pygments_lexer": "ipython3",
   "version": "3.11.4"
  }
 },
 "nbformat": 4,
 "nbformat_minor": 5
}
