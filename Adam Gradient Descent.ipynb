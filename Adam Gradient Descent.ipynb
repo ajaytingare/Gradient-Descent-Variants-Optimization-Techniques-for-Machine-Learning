{
 "cells": [
  {
   "cell_type": "code",
   "execution_count": null,
   "id": "a8a70408-3219-4ab9-bb08-36b19043a9bb",
   "metadata": {},
   "outputs": [],
   "source": []
  },
  {
   "cell_type": "markdown",
   "id": "eab38ecf-59a9-46be-baac-38f5ed115aec",
   "metadata": {},
   "source": [
    "# Adam Gradient Descent"
   ]
  },
  {
   "cell_type": "code",
   "execution_count": 1,
   "id": "3732b11b-ef2f-40e3-a407-89341402bbb6",
   "metadata": {},
   "outputs": [
    {
     "name": "stdout",
     "output_type": "stream",
     "text": [
      "Epoch 100, Cost: 0.340038\n",
      "Epoch 200, Cost: 0.001637\n",
      "Epoch 300, Cost: 0.000000\n",
      "Epoch 400, Cost: 0.000000\n",
      "Epoch 500, Cost: 0.000000\n",
      "Epoch 600, Cost: 0.000000\n",
      "Epoch 700, Cost: 0.000000\n",
      "Epoch 800, Cost: 0.000000\n",
      "Epoch 900, Cost: 0.000000\n",
      "Epoch 1000, Cost: 0.000000\n",
      "Optimized Weights: [1. 1.]\n"
     ]
    }
   ],
   "source": [
    "import numpy as np\n",
    "\n",
    "# Function to perform Adam (Adaptive Moment Estimation) Gradient Descent\n",
    "# Adam combines momentum and RMSprop to achieve faster and more stable convergence\n",
    "\n",
    "def adam_gradient_descent(X, y, learning_rate=0.01, epochs=1000, beta1=0.9, beta2=0.999, epsilon=1e-8):\n",
    "    m, n = X.shape  # m: number of samples, n: number of features\n",
    "    theta = np.zeros(n)  # Initialize weights (all zeros)\n",
    "    moment = np.zeros(n)  # First moment vector (momentum term)\n",
    "    velocity = np.zeros(n)  # Second moment vector (RMSprop term)\n",
    "    history = []  # To track the cost function over iterations\n",
    "    \n",
    "    for epoch in range(1, epochs + 1):\n",
    "        gradients = (1/m) * X.T.dot(X.dot(theta) - y)  # Compute gradients\n",
    "        moment = beta1 * moment + (1 - beta1) * gradients  # Update biased first moment estimate\n",
    "        velocity = beta2 * velocity + (1 - beta2) * (gradients ** 2)  # Update biased second moment estimate\n",
    "        \n",
    "        # Bias correction\n",
    "        moment_corrected = moment / (1 - beta1 ** epoch)\n",
    "        velocity_corrected = velocity / (1 - beta2 ** epoch)\n",
    "        \n",
    "        # Parameter update\n",
    "        theta -= learning_rate * moment_corrected / (np.sqrt(velocity_corrected) + epsilon)\n",
    "        \n",
    "        cost = (1/(2*m)) * np.sum((X.dot(theta) - y) ** 2)  # Compute cost\n",
    "        history.append(cost)  # Store the cost for visualization later\n",
    "        \n",
    "        if epoch % 100 == 0:  # Print progress every 100 epochs\n",
    "            print(f\"Epoch {epoch}, Cost: {cost:.6f}\")  # Display the current cost\n",
    "    \n",
    "    return theta, history  # Return optimized parameters and cost history\n",
    "\n",
    "# Example Usage: Linear Regression with Adam Gradient Descent\n",
    "X = np.array([[1, 1], [1, 2], [1, 3], [1, 4]])  # Adding bias term (column of ones)\n",
    "y = np.array([2, 3, 4, 5])  # Target variable\n",
    "\n",
    "theta, history = adam_gradient_descent(X, y)  # Run Adam Descent\n",
    "print(\"Optimized Weights:\", theta)  # Print the final values of the weights\n"
   ]
  },
  {
   "cell_type": "code",
   "execution_count": null,
   "id": "042a9212-faca-4ee1-b3a8-b70f45a5d523",
   "metadata": {},
   "outputs": [],
   "source": []
  }
 ],
 "metadata": {
  "kernelspec": {
   "display_name": "Python 3 (ipykernel)",
   "language": "python",
   "name": "python3"
  },
  "language_info": {
   "codemirror_mode": {
    "name": "ipython",
    "version": 3
   },
   "file_extension": ".py",
   "mimetype": "text/x-python",
   "name": "python",
   "nbconvert_exporter": "python",
   "pygments_lexer": "ipython3",
   "version": "3.11.4"
  }
 },
 "nbformat": 4,
 "nbformat_minor": 5
}
